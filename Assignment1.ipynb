{
 "cells": [
  {
   "cell_type": "code",
   "execution_count": null,
   "id": "f88d0cd7-c3d3-40e1-a5f4-78d05a12501a",
   "metadata": {},
   "outputs": [],
   "source": [
    "def revstring():\n",
    "    a = input(\"Enter first name \\n\")\n",
    "    b = input(\"Enter last name\\n\")\n",
    "    c = a + \" \" + b\n",
    "    print(\"String entered: \",c.capitalize()) #converts the first character of the string to capital\n",
    "    print(\"Reversed order :\",  b, a)\n",
    "    print(\"Length of string :\", len(c)) #counts the number of characters in a string, including whitespace\n",
    "\n",
    "def typecon():\n",
    "    a= input(\"Enter number: \")\n",
    "    print(\"Datatype of entered number: \",type(a)) #shows the datatype of the number; eg: int\n",
    "    print(\"Integer representation: \",int(a)) #no decimal point representaion; eg: 5\n",
    "    print(\"Float representation: \", float(a)) #has a decimal point representaion; eg: 5.0\n",
    "    print(\"Complex representation: \", complex(a)) #represents number in complex number format; eg: (5+0j)\n",
    "\n",
    "def recarea():\n",
    "    a=int(input(\"Enter length of rectangle\\n\"))\n",
    "    b=int(input(\"Enter breadth of rectangle\\n\"))\n",
    "    c=a*b\n",
    "    print(\"Area: \", c)\n",
    "    str(c)\n",
    "    d=format(c, \".2f\")\n",
    "    print(\"Area with 2 decimal places: \",d)\n",
    "\n",
    "def avg():\n",
    "    a=[1,2,3,4]\n",
    "    print(\"Average = \",(sum(a)/len(a)))\n",
    "\n",
    "\n",
    "f=1\n",
    "while(f==1):\n",
    "    c=int(input(\"Choose your operation:\\n1) Reverse a string\\n2) Convert type\\n3) Find area of a rectangle\\n4) Find average\\n5) Exit\\n\"))\n",
    "    if c==1:\n",
    "        revstring()\n",
    "\n",
    "    elif c==2:\n",
    "        typecon()\n",
    "\n",
    "    elif c==3:\n",
    "        recarea()\n",
    "\n",
    "    elif c==4:\n",
    "        avg()\n",
    "    \n",
    "    elif c==5:\n",
    "        print(\"Exitting.....\")\n",
    "        f=0\n",
    "\n",
    "    else:\n",
    "        print(\"Invalid entry...try again...\")\n",
    "\n"
   ]
  }
 ],
 "metadata": {
  "kernelspec": {
   "display_name": "Python 3 (ipykernel)",
   "language": "python",
   "name": "python3"
  },
  "language_info": {
   "codemirror_mode": {
    "name": "ipython",
    "version": 3
   },
   "file_extension": ".py",
   "mimetype": "text/x-python",
   "name": "python",
   "nbconvert_exporter": "python",
   "pygments_lexer": "ipython3",
   "version": "3.12.4"
  }
 },
 "nbformat": 4,
 "nbformat_minor": 5
}
